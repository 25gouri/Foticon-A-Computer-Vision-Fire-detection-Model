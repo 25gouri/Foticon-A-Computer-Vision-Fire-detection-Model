{
 "cells": [
  {
   "cell_type": "code",
   "execution_count": 1,
   "id": "42c8efe1",
   "metadata": {},
   "outputs": [],
   "source": [
    "import cv2\n",
    "import numpy as np\n",
    "import smtplib\n",
    "import playsound\n",
    "import threading\n",
    "\n",
    "Alarm_Status = False\n",
    "Fire_Reported = 0\n",
    "\n",
    "def play_function():\n",
    "    while True:\n",
    "        playsound.playsound('C:\\\\Users\\\\gouri\\\\Downloads\\\\buzzer-or-wrong-answer-20582.mp3',True)\n",
    "        \n",
    "video = cv2.VideoCapture(0) \n",
    "\n",
    "while True:\n",
    "    \n",
    "    (grabbed, frame) = video.read()\n",
    "    if not grabbed:\n",
    "        break\n",
    "\n",
    "    frame = cv2.resize(frame, (960, 540))\n",
    "\n",
    "    blur = cv2.GaussianBlur(frame, (21, 21), 0)\n",
    "    hsv = cv2.cvtColor(blur, cv2.COLOR_BGR2HSV)\n",
    "\n",
    "    lower = [18, 50, 50]\n",
    "    upper = [35, 255, 255]\n",
    "    lower = np.array(lower, dtype=\"uint8\")\n",
    "    upper = np.array(upper, dtype=\"uint8\")\n",
    "\n",
    "    mask = cv2.inRange(hsv, lower, upper)\n",
    "\n",
    "    output = cv2.bitwise_and(frame, hsv, mask=mask)\n",
    "\n",
    "    no_red = cv2.countNonZero(mask)\n",
    "\n",
    "    if int(no_red) > 25000:\n",
    "        Fire_Reported = Fire_Reported + 1\n",
    "\n",
    "    cv2.imshow(\"output\", output)\n",
    "\n",
    "    if Fire_Reported >= 1:\n",
    "\n",
    "        if Alarm_Status == False:\n",
    "            threading.Thread(target=play_function).start()\n",
    "            Alarm_Status = True\n",
    "        if cv2.waitKey(1) == 13:\n",
    "            break\n",
    "\n",
    "cv2.destroyAllWindows()\n",
    "video.release()"
   ]
  },
  {
   "cell_type": "code",
   "execution_count": null,
   "id": "ce3725ff",
   "metadata": {},
   "outputs": [],
   "source": []
  }
 ],
 "metadata": {
  "kernelspec": {
   "display_name": "Python 3 (ipykernel)",
   "language": "python",
   "name": "python3"
  },
  "language_info": {
   "codemirror_mode": {
    "name": "ipython",
    "version": 3
   },
   "file_extension": ".py",
   "mimetype": "text/x-python",
   "name": "python",
   "nbconvert_exporter": "python",
   "pygments_lexer": "ipython3",
   "version": "3.10.9"
  }
 },
 "nbformat": 4,
 "nbformat_minor": 5
}
